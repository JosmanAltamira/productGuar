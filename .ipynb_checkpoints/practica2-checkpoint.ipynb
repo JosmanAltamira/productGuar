{
 "cells": [
  {
   "cell_type": "markdown",
   "metadata": {},
   "source": [
    "# Práctica 1"
   ]
  },
  {
   "cell_type": "markdown",
   "metadata": {},
   "source": [
    "Revise los comandos descritos en cada una de las celdas y revise el funcionamiento del algoritmo cuando se tienen datos duplicados o erróneos en el conjunto de datos."
   ]
  },
  {
   "cell_type": "code",
   "execution_count": 1,
   "metadata": {},
   "outputs": [
    {
     "name": "stdout",
     "output_type": "stream",
     "text": [
      "(1000, 20) (1000,)\n"
     ]
    }
   ],
   "source": [
    "# Librerias\n",
    "import pandas as pd\n",
    "import numpy as np\n",
    "import seaborn as sns\n",
    "\n",
    "from sklearn.preprocessing import MinMaxScaler\n",
    "\n",
    "#Plots\n",
    "from colorama import Fore, Back, Style \n",
    "import matplotlib.pyplot as plt\n",
    "#from mlxtend.plotting import plot_confusion_matrix\n",
    "\n",
    "from sklearn.impute import SimpleImputer\n",
    "\n",
    "#Models\n",
    "from sklearn.model_selection import train_test_split\n",
    "from sklearn.linear_model import LogisticRegression\n",
    "from sklearn.metrics import accuracy_score\n",
    "\n",
    "#%config IPCompleter.greedy=True\n",
    "#import mglearn\n",
    "\n",
    "\n",
    "#test classification dataset\n",
    "from sklearn.datasets import make_classification\n",
    "#define dataset\n",
    "X, y = make_classification(n_samples=1000, n_features=20, n_informative=15, random_state=7)\n",
    "#summarize the dataset\n",
    "print(X.shape, y.shape)"
   ]
  },
  {
   "cell_type": "code",
   "execution_count": 2,
   "metadata": {},
   "outputs": [],
   "source": [
    "import warnings\n",
    "warnings.filterwarnings('ignore')"
   ]
  },
  {
   "cell_type": "markdown",
   "metadata": {},
   "source": [
    "# Analyze Data"
   ]
  },
  {
   "cell_type": "code",
   "execution_count": 3,
   "metadata": {},
   "outputs": [],
   "source": [
    "data = pd.read_csv('practica2.csv')"
   ]
  },
  {
   "cell_type": "code",
   "execution_count": 4,
   "metadata": {},
   "outputs": [
    {
     "data": {
      "text/plain": [
       "(17175, 10)"
      ]
     },
     "execution_count": 4,
     "metadata": {},
     "output_type": "execute_result"
    }
   ],
   "source": [
    "# data shape\n",
    "data.shape\n"
   ]
  },
  {
   "cell_type": "code",
   "execution_count": 5,
   "metadata": {},
   "outputs": [
    {
     "data": {
      "text/html": [
       "<div>\n",
       "<style scoped>\n",
       "    .dataframe tbody tr th:only-of-type {\n",
       "        vertical-align: middle;\n",
       "    }\n",
       "\n",
       "    .dataframe tbody tr th {\n",
       "        vertical-align: top;\n",
       "    }\n",
       "\n",
       "    .dataframe thead th {\n",
       "        text-align: right;\n",
       "    }\n",
       "</style>\n",
       "<table border=\"1\" class=\"dataframe\">\n",
       "  <thead>\n",
       "    <tr style=\"text-align: right;\">\n",
       "      <th></th>\n",
       "      <th>gender</th>\n",
       "      <th>heartrate</th>\n",
       "      <th>breathing</th>\n",
       "      <th>cortisol</th>\n",
       "      <th>delta</th>\n",
       "      <th>theta</th>\n",
       "      <th>alpha</th>\n",
       "      <th>beta</th>\n",
       "      <th>gamma</th>\n",
       "      <th>stress</th>\n",
       "    </tr>\n",
       "  </thead>\n",
       "  <tbody>\n",
       "    <tr>\n",
       "      <th>count</th>\n",
       "      <td>17175.000000</td>\n",
       "      <td>17164.000000</td>\n",
       "      <td>17164.000000</td>\n",
       "      <td>17164.000000</td>\n",
       "      <td>17164.000000</td>\n",
       "      <td>17164.000000</td>\n",
       "      <td>17164.000000</td>\n",
       "      <td>17164.000000</td>\n",
       "      <td>17164.000000</td>\n",
       "      <td>17164.000000</td>\n",
       "    </tr>\n",
       "    <tr>\n",
       "      <th>mean</th>\n",
       "      <td>0.504687</td>\n",
       "      <td>120.578828</td>\n",
       "      <td>24.810708</td>\n",
       "      <td>53.511540</td>\n",
       "      <td>2.490886</td>\n",
       "      <td>6.510484</td>\n",
       "      <td>11.013452</td>\n",
       "      <td>24.501091</td>\n",
       "      <td>67.311082</td>\n",
       "      <td>0.417443</td>\n",
       "    </tr>\n",
       "    <tr>\n",
       "      <th>std</th>\n",
       "      <td>0.499993</td>\n",
       "      <td>35.170863</td>\n",
       "      <td>3.662573</td>\n",
       "      <td>15.676915</td>\n",
       "      <td>1.443091</td>\n",
       "      <td>0.872050</td>\n",
       "      <td>1.741405</td>\n",
       "      <td>6.090847</td>\n",
       "      <td>18.723524</td>\n",
       "      <td>0.493152</td>\n",
       "    </tr>\n",
       "    <tr>\n",
       "      <th>min</th>\n",
       "      <td>0.000000</td>\n",
       "      <td>74.000000</td>\n",
       "      <td>18.000000</td>\n",
       "      <td>26.009400</td>\n",
       "      <td>0.000400</td>\n",
       "      <td>5.000400</td>\n",
       "      <td>8.000100</td>\n",
       "      <td>14.000000</td>\n",
       "      <td>35.010400</td>\n",
       "      <td>0.000000</td>\n",
       "    </tr>\n",
       "    <tr>\n",
       "      <th>25%</th>\n",
       "      <td>0.000000</td>\n",
       "      <td>90.000000</td>\n",
       "      <td>22.000000</td>\n",
       "      <td>39.827000</td>\n",
       "      <td>1.244375</td>\n",
       "      <td>5.742350</td>\n",
       "      <td>9.499600</td>\n",
       "      <td>19.179125</td>\n",
       "      <td>51.051250</td>\n",
       "      <td>0.000000</td>\n",
       "    </tr>\n",
       "    <tr>\n",
       "      <th>50%</th>\n",
       "      <td>1.000000</td>\n",
       "      <td>112.000000</td>\n",
       "      <td>25.000000</td>\n",
       "      <td>54.227450</td>\n",
       "      <td>2.482250</td>\n",
       "      <td>6.523000</td>\n",
       "      <td>11.014200</td>\n",
       "      <td>24.499250</td>\n",
       "      <td>67.318850</td>\n",
       "      <td>0.000000</td>\n",
       "    </tr>\n",
       "    <tr>\n",
       "      <th>75%</th>\n",
       "      <td>1.000000</td>\n",
       "      <td>150.000000</td>\n",
       "      <td>28.000000</td>\n",
       "      <td>67.134550</td>\n",
       "      <td>3.741700</td>\n",
       "      <td>7.272625</td>\n",
       "      <td>12.532250</td>\n",
       "      <td>29.811675</td>\n",
       "      <td>83.422450</td>\n",
       "      <td>1.000000</td>\n",
       "    </tr>\n",
       "    <tr>\n",
       "      <th>max</th>\n",
       "      <td>1.000000</td>\n",
       "      <td>190.000000</td>\n",
       "      <td>30.000000</td>\n",
       "      <td>79.999300</td>\n",
       "      <td>4.999800</td>\n",
       "      <td>7.999800</td>\n",
       "      <td>14.000000</td>\n",
       "      <td>34.998300</td>\n",
       "      <td>99.993500</td>\n",
       "      <td>1.000000</td>\n",
       "    </tr>\n",
       "  </tbody>\n",
       "</table>\n",
       "</div>"
      ],
      "text/plain": [
       "             gender     heartrate     breathing      cortisol         delta  \\\n",
       "count  17175.000000  17164.000000  17164.000000  17164.000000  17164.000000   \n",
       "mean       0.504687    120.578828     24.810708     53.511540      2.490886   \n",
       "std        0.499993     35.170863      3.662573     15.676915      1.443091   \n",
       "min        0.000000     74.000000     18.000000     26.009400      0.000400   \n",
       "25%        0.000000     90.000000     22.000000     39.827000      1.244375   \n",
       "50%        1.000000    112.000000     25.000000     54.227450      2.482250   \n",
       "75%        1.000000    150.000000     28.000000     67.134550      3.741700   \n",
       "max        1.000000    190.000000     30.000000     79.999300      4.999800   \n",
       "\n",
       "              theta         alpha          beta         gamma        stress  \n",
       "count  17164.000000  17164.000000  17164.000000  17164.000000  17164.000000  \n",
       "mean       6.510484     11.013452     24.501091     67.311082      0.417443  \n",
       "std        0.872050      1.741405      6.090847     18.723524      0.493152  \n",
       "min        5.000400      8.000100     14.000000     35.010400      0.000000  \n",
       "25%        5.742350      9.499600     19.179125     51.051250      0.000000  \n",
       "50%        6.523000     11.014200     24.499250     67.318850      0.000000  \n",
       "75%        7.272625     12.532250     29.811675     83.422450      1.000000  \n",
       "max        7.999800     14.000000     34.998300     99.993500      1.000000  "
      ]
     },
     "execution_count": 5,
     "metadata": {},
     "output_type": "execute_result"
    }
   ],
   "source": [
    "data.describe()"
   ]
  },
  {
   "cell_type": "code",
   "execution_count": 6,
   "metadata": {},
   "outputs": [
    {
     "data": {
      "text/plain": [
       "gender         int64\n",
       "heartrate    float64\n",
       "breathing    float64\n",
       "cortisol     float64\n",
       "delta        float64\n",
       "theta        float64\n",
       "alpha        float64\n",
       "beta         float64\n",
       "gamma        float64\n",
       "stress       float64\n",
       "dtype: object"
      ]
     },
     "execution_count": 6,
     "metadata": {},
     "output_type": "execute_result"
    }
   ],
   "source": [
    "# data types\n",
    "data.dtypes"
   ]
  },
  {
   "cell_type": "code",
   "execution_count": 7,
   "metadata": {},
   "outputs": [
    {
     "name": "stdout",
     "output_type": "stream",
     "text": [
      "El porcentaje de datos perdidos es: 0.58%\n"
     ]
    }
   ],
   "source": [
    "#total percentage of missing data\n",
    "missing_data = data.isnull().sum()\n",
    "total_percentage = (missing_data.sum()/data.shape[0]) * 100\n",
    "print(f'El porcentaje de datos perdidos es: {round(total_percentage,2)}%')"
   ]
  },
  {
   "cell_type": "code",
   "execution_count": 8,
   "metadata": {},
   "outputs": [
    {
     "data": {
      "text/html": [
       "<div>\n",
       "<style scoped>\n",
       "    .dataframe tbody tr th:only-of-type {\n",
       "        vertical-align: middle;\n",
       "    }\n",
       "\n",
       "    .dataframe tbody tr th {\n",
       "        vertical-align: top;\n",
       "    }\n",
       "\n",
       "    .dataframe thead th {\n",
       "        text-align: right;\n",
       "    }\n",
       "</style>\n",
       "<table border=\"1\" class=\"dataframe\">\n",
       "  <thead>\n",
       "    <tr style=\"text-align: right;\">\n",
       "      <th></th>\n",
       "      <th>Total</th>\n",
       "      <th>Percentage</th>\n",
       "    </tr>\n",
       "  </thead>\n",
       "  <tbody>\n",
       "    <tr>\n",
       "      <th>heartrate</th>\n",
       "      <td>11</td>\n",
       "      <td>0.064047</td>\n",
       "    </tr>\n",
       "    <tr>\n",
       "      <th>breathing</th>\n",
       "      <td>11</td>\n",
       "      <td>0.064047</td>\n",
       "    </tr>\n",
       "    <tr>\n",
       "      <th>cortisol</th>\n",
       "      <td>11</td>\n",
       "      <td>0.064047</td>\n",
       "    </tr>\n",
       "    <tr>\n",
       "      <th>delta</th>\n",
       "      <td>11</td>\n",
       "      <td>0.064047</td>\n",
       "    </tr>\n",
       "    <tr>\n",
       "      <th>theta</th>\n",
       "      <td>11</td>\n",
       "      <td>0.064047</td>\n",
       "    </tr>\n",
       "    <tr>\n",
       "      <th>alpha</th>\n",
       "      <td>11</td>\n",
       "      <td>0.064047</td>\n",
       "    </tr>\n",
       "    <tr>\n",
       "      <th>beta</th>\n",
       "      <td>11</td>\n",
       "      <td>0.064047</td>\n",
       "    </tr>\n",
       "    <tr>\n",
       "      <th>gamma</th>\n",
       "      <td>11</td>\n",
       "      <td>0.064047</td>\n",
       "    </tr>\n",
       "    <tr>\n",
       "      <th>stress</th>\n",
       "      <td>11</td>\n",
       "      <td>0.064047</td>\n",
       "    </tr>\n",
       "  </tbody>\n",
       "</table>\n",
       "</div>"
      ],
      "text/plain": [
       "           Total  Percentage\n",
       "heartrate     11    0.064047\n",
       "breathing     11    0.064047\n",
       "cortisol      11    0.064047\n",
       "delta         11    0.064047\n",
       "theta         11    0.064047\n",
       "alpha         11    0.064047\n",
       "beta          11    0.064047\n",
       "gamma         11    0.064047\n",
       "stress        11    0.064047"
      ]
     },
     "execution_count": 8,
     "metadata": {},
     "output_type": "execute_result"
    }
   ],
   "source": [
    "# percentage of missing data per category\n",
    "total = data.isnull().sum().sort_values(ascending=False)\n",
    "percent_total = (data.isnull().sum()/data.isnull().count()).sort_values(ascending=False)*100\n",
    "missing = pd.concat([total, percent_total], axis=1, keys=[\"Total\", \"Percentage\"])\n",
    "missing_data = missing[missing['Total']>0]\n",
    "missing_data"
   ]
  },
  {
   "cell_type": "code",
   "execution_count": 9,
   "metadata": {},
   "outputs": [
    {
     "data": {
      "image/png": "[encoded data removed]",
      "text/plain": [
       "<Figure size 900x600 with 1 Axes>"
      ]
     },
     "metadata": {},
     "output_type": "display_data"
    }
   ],
   "source": [
    "if len(missing_data)!=0:\n",
    "    plt.figure(figsize=(9,6))\n",
    "    sns.set(style=\"whitegrid\")\n",
    "    sns.barplot(x=missing_data.index, y=missing_data['Percentage'], data = missing_data)\n",
    "    plt.title('Porcentaje de datos perdidos por atributo')\n",
    "    plt.xlabel('Atributo', fontsize=14)\n",
    "    plt.ylabel('Porcentaje', fontsize=14)\n",
    "    plt.show()\n",
    "else:\n",
    "    print(\"No se tienen datos perdidos...\")"
   ]
  },
  {
   "cell_type": "markdown",
   "metadata": {},
   "source": [
    "# Accuracy del algoritmo sin limpieza de datos"
   ]
  },
  {
   "cell_type": "code",
   "execution_count": 10,
   "metadata": {},
   "outputs": [],
   "source": [
    "# Imputar los valores faltantes\n",
    "imputer = SimpleImputer(strategy='mean')  # Puedes ajustar la estrategia según tus necesidades\n",
    "data_imputed = pd.DataFrame(imputer.fit_transform(data), columns=data.columns)"
   ]
  },
  {
   "cell_type": "code",
   "execution_count": 11,
   "metadata": {},
   "outputs": [],
   "source": [
    "# Dividir los datos en características (X) y variable objetivo (y)\n",
    "X = data_imputed.drop('stress', axis=1)\n",
    "y = data_imputed['stress']\n",
    "# Verificar valores nulos en X_train y y_train\n",
    "print(X_train.isnull().sum())\n",
    "print(y_train.isnull().sum())"
   ]
  },
  {
   "cell_type": "code",
   "execution_count": 12,
   "metadata": {},
   "outputs": [
    {
     "ename": "NameError",
     "evalue": "name 'X_train' is not defined",
     "output_type": "error",
     "traceback": [
      "\u001b[1;31m---------------------------------------------------------------------------\u001b[0m",
      "\u001b[1;31mNameError\u001b[0m                                 Traceback (most recent call last)",
      "Cell \u001b[1;32mIn[12], line 2\u001b[0m\n\u001b[0;32m      1\u001b[0m \u001b[38;5;66;03m# Verificar valores nulos en X_train y y_train\u001b[39;00m\n\u001b[1;32m----> 2\u001b[0m \u001b[38;5;28mprint\u001b[39m(X_train\u001b[38;5;241m.\u001b[39misnull()\u001b[38;5;241m.\u001b[39msum())\n\u001b[0;32m      3\u001b[0m \u001b[38;5;28mprint\u001b[39m(y_train\u001b[38;5;241m.\u001b[39misnull()\u001b[38;5;241m.\u001b[39msum())\n",
      "\u001b[1;31mNameError\u001b[0m: name 'X_train' is not defined"
     ]
    }
   ],
   "source": []
  },
  {
   "cell_type": "code",
   "execution_count": null,
   "metadata": {},
   "outputs": [],
   "source": [
    "# split into train and test sets\n",
    "X_train, X_test, y_train, y_test = train_test_split(X, y, test_size=0.30, random_state=1)"
   ]
  },
  {
   "cell_type": "code",
   "execution_count": null,
   "metadata": {},
   "outputs": [],
   "source": [
    "# Verificar valores nulos en X_train y y_train después de la división\n",
    "print(X_train.isnull().sum())\n",
    "print(y_train.isnull().sum())"
   ]
  },
  {
   "cell_type": "code",
   "execution_count": null,
   "metadata": {},
   "outputs": [],
   "source": [
    "# fit the model\n",
    "model = LogisticRegression()\n",
    "model.fit(X_train, y_train)\n",
    "# evaluate the model\n",
    "yhat = model.predict(X_test)\n",
    "# evaluate predictions\n",
    "accuracy = accuracy_score(y_test, yhat)\n",
    "print('Accuracy: %.3f' % (accuracy*100))"
   ]
  },
  {
   "cell_type": "markdown",
   "metadata": {},
   "source": [
    "# Limpieza de datos"
   ]
  },
  {
   "cell_type": "code",
   "execution_count": null,
   "metadata": {},
   "outputs": [],
   "source": [
    "#Eliminar los datos con valores perdiodos\n",
    "data.dropna(axis=0, inplace=True)"
   ]
  },
  {
   "cell_type": "code",
   "execution_count": null,
   "metadata": {},
   "outputs": [],
   "source": [
    "data['stress'] = data['stress'].astype(int)"
   ]
  },
  {
   "cell_type": "markdown",
   "metadata": {},
   "source": [
    "El siguiente comando deberá listar el total de registros una vez eliminados los valores perdidos."
   ]
  },
  {
   "cell_type": "code",
   "execution_count": null,
   "metadata": {},
   "outputs": [],
   "source": [
    "data.shape"
   ]
  },
  {
   "cell_type": "code",
   "execution_count": null,
   "metadata": {},
   "outputs": [],
   "source": [
    "# data types\n",
    "data.dtypes"
   ]
  },
  {
   "cell_type": "code",
   "execution_count": null,
   "metadata": {},
   "outputs": [],
   "source": [
    "#total percentage of missing data\n",
    "missing_data = data.isnull().sum()\n",
    "total_percentage = (missing_data.sum()/data.shape[0]) * 100\n",
    "print(f'El porcentaje de datos perdidos es: {round(total_percentage,2)}%')"
   ]
  },
  {
   "cell_type": "markdown",
   "metadata": {},
   "source": [
    "# Revisión del comportamiento de los datos"
   ]
  },
  {
   "cell_type": "code",
   "execution_count": null,
   "metadata": {},
   "outputs": [],
   "source": [
    "# I am using pandas profiling for exploratory data analysis\n",
    "\n",
    "from pandas_profiling import ProfileReport\n",
    "\n",
    "profile = ProfileReport(data, title=\"Pandas Profiling Report\")\n",
    "profile"
   ]
  },
  {
   "cell_type": "code",
   "execution_count": null,
   "metadata": {},
   "outputs": [],
   "source": [
    "# plot histogram to see the distribution of the data\n",
    "fig = plt.figure(figsize = (15,20))\n",
    "ax = fig.gca()\n",
    "data.hist(ax = ax)\n",
    "plt.show()\n"
   ]
  },
  {
   "cell_type": "code",
   "execution_count": null,
   "metadata": {},
   "outputs": [],
   "source": [
    "\n",
    "sns.countplot(x='stress',data=data, palette='husl')\n",
    "plt.show()\n",
    "cases = data.stress.value_counts()\n",
    "print(f\"El conjunto de datos contiene {cases[0]} pacientes con estress bajo y {cases[1]} pacients con estres alto\")\n",
    "\n"
   ]
  },
  {
   "cell_type": "code",
   "execution_count": null,
   "metadata": {},
   "outputs": [],
   "source": [
    "#Number of people who have disease vs age\n",
    "plt.figure(figsize=(15,6))\n",
    "sns.countplot(x='gender',data = data, hue = 'stress',palette='husl')\n",
    "plt.show()\n"
   ]
  },
  {
   "cell_type": "code",
   "execution_count": null,
   "metadata": {},
   "outputs": [],
   "source": [
    "plt.figure(figsize=(12,8))\n",
    "sns.distplot(data['cortisol'])\n",
    "plt.title('Distribución Variable Cortisol', fontsize=20)"
   ]
  },
  {
   "cell_type": "code",
   "execution_count": null,
   "metadata": {},
   "outputs": [],
   "source": [
    "plt.figure(figsize=(12,8))\n",
    "sns.distplot(data['gender'])\n",
    "plt.title('Distribución Variable Gender', fontsize=20)"
   ]
  },
  {
   "cell_type": "code",
   "execution_count": null,
   "metadata": {},
   "outputs": [],
   "source": [
    "def stacked_barchart(data, title = None, ylabel = None, xlabel = None):\n",
    "    default_colors = ['#008080', '#5f3c41', '#219AD8']\n",
    "    # From raw value to percentage\n",
    "    totals = data.sum(axis=1)\n",
    "    bars = ((data.T / totals) * 100).T\n",
    "    r = list(range(data.index.size))\n",
    "\n",
    "    # Plot\n",
    "    barWidth = 0.95\n",
    "    names = data.index.tolist()\n",
    "    bottom = [0] * bars.shape[0]\n",
    "\n",
    "    # Create bars\n",
    "    color_index = 0\n",
    "    plots = []\n",
    "    for bar in bars.columns:\n",
    "        plots.append(plt.bar(r, bars[bar], bottom=bottom, color=default_colors[color_index], edgecolor='white', width=barWidth))\n",
    "        bottom = list(map(add, bottom, bars[bar]))\n",
    "        color_index = 0 if color_index >= len(default_colors) else color_index + 1\n",
    "\n",
    "    # Custom x axis\n",
    "    plt.title(title)\n",
    "    plt.xticks(r, names)\n",
    "    plt.xlabel(data.index.name if xlabel is None else xlabel)\n",
    "    plt.ylabel(data.columns.name if ylabel is None else ylabel)\n",
    "    ax = plt.gca()\n",
    "        \n",
    "    y_labels = ax.get_yticks()\n",
    "    ax.set_yticklabels([str(y) + '%' for y in y_labels])\n",
    "\n",
    "    flat_list = [item for sublist in data.T.values for item in sublist]\n",
    "    for i, d in zip(ax.patches, flat_list):\n",
    "        data_label = str(d) + \" (\" + str(round(i.get_height(), 2)) + \"%)\"\n",
    "        ax.text(i.get_x() + 0.45, i.get_y() + 5, data_label, horizontalalignment='center', verticalalignment='center', fontdict = dict(color = 'white', size = 20))\n",
    "\n",
    "    for item in ([ax.title]):\n",
    "        item.set_fontsize(27)\n",
    "        \n",
    "    for item in ([ax.xaxis.label, ax.yaxis.label] + ax.get_xticklabels() + ax.get_yticklabels()):\n",
    "        item.set_fontsize(24)\n",
    "    \n",
    "    legend = ax.legend(plots, bars.columns.tolist(), fancybox=True)\n",
    "    plt.setp(legend.get_texts(), fontsize='20')"
   ]
  },
  {
   "cell_type": "code",
   "execution_count": null,
   "metadata": {},
   "outputs": [],
   "source": [
    "from operator import add\n",
    "fig = plt.gcf()\n",
    "fig.set_size_inches(25, 35)\n",
    "grid_rows = 3\n",
    "grid_cols = 2\n",
    "\n",
    "#draw sex vs disease outcome\n",
    "plt.subplot(grid_rows, grid_cols, 1)\n",
    "temp = data[['gender','stress']].groupby(['gender','stress']).size().unstack('stress')\n",
    "temp.rename(index={0:'Femenino', 1:'Masculino'}, columns={0:'No', 1:'Si'}, inplace = True)\n",
    "stacked_barchart(temp, title = 'Stress vs Gender', ylabel = 'Población')\n",
    "\n"
   ]
  },
  {
   "cell_type": "code",
   "execution_count": null,
   "metadata": {},
   "outputs": [],
   "source": [
    "plt.figure(figsize=(20,12))\n",
    "sns.heatmap(data.corr(), annot = True)\n",
    "plt.show()"
   ]
  },
  {
   "cell_type": "markdown",
   "metadata": {},
   "source": [
    "# Calculando el rendimiento del algoritmo"
   ]
  },
  {
   "cell_type": "code",
   "execution_count": null,
   "metadata": {},
   "outputs": [],
   "source": [
    "#Todas las variables que se quieran evaluar, quitamos la variable de y\n",
    "X = data.drop('stress',axis=1)\n",
    "y = data['stress']"
   ]
  },
  {
   "cell_type": "code",
   "execution_count": null,
   "metadata": {},
   "outputs": [],
   "source": [
    "# split into train and test sets\n",
    "X_train, X_test, y_train, y_test = train_test_split(X, y, test_size=0.30, random_state=1)"
   ]
  },
  {
   "cell_type": "code",
   "execution_count": null,
   "metadata": {},
   "outputs": [],
   "source": [
    "# fit the model\n",
    "model = LogisticRegression()\n",
    "model.fit(X_train, y_train)\n",
    "# evaluate the model\n",
    "yhat = model.predict(X_test)\n",
    "# evaluate predictions\n",
    "accuracy = accuracy_score(y_test, yhat)\n",
    "print('Accuracy: %.3f' % (accuracy*100))"
   ]
  },
  {
   "cell_type": "markdown",
   "metadata": {},
   "source": [
    "# Mejorando el rendimiento del algoritmo"
   ]
  },
  {
   "cell_type": "code",
   "execution_count": null,
   "metadata": {},
   "outputs": [],
   "source": [
    "# define the scaler\n",
    "scaler = MinMaxScaler()\n",
    "# fit on the training dataset\n",
    "scaler.fit(X_train)\n",
    "# scale the training dataset\n",
    "X_train = scaler.transform(X_train)\n",
    "# scale the test dataset\n",
    "X_test = scaler.transform(X_test)"
   ]
  },
  {
   "cell_type": "code",
   "execution_count": null,
   "metadata": {
    "scrolled": true
   },
   "outputs": [],
   "source": [
    "# fit the model\n",
    "model = LogisticRegression()\n",
    "model.fit(X_train, y_train)\n",
    "# evaluate the model\n",
    "yhat = model.predict(X_test)\n",
    "# evaluate predictions\n",
    "accuracy = accuracy_score(y_test, yhat)\n",
    "print('Accuracy: %.3f' % (accuracy*100))"
   ]
  },
  {
   "cell_type": "markdown",
   "metadata": {},
   "source": [
    "# ¿Cuál es el procedimiento para eliminar las filas duplicadas?"
   ]
  },
  {
   "cell_type": "code",
   "execution_count": null,
   "metadata": {},
   "outputs": [],
   "source": []
  }
 ],
 "metadata": {
  "kernelspec": {
   "display_name": "Python 3 (ipykernel)",
   "language": "python",
   "name": "python3"
  },
  "language_info": {
   "codemirror_mode": {
    "name": "ipython",
    "version": 3
   },
   "file_extension": ".py",
   "mimetype": "text/x-python",
   "name": "python",
   "nbconvert_exporter": "python",
   "pygments_lexer": "ipython3",
   "version": "3.11.3"
  },
  "toc": {
   "base_numbering": 1,
   "nav_menu": {},
   "number_sections": true,
   "sideBar": true,
   "skip_h1_title": false,
   "title_cell": "Table of Contents",
   "title_sidebar": "Contents",
   "toc_cell": false,
   "toc_position": {},
   "toc_section_display": true,
   "toc_window_display": false
  },
  "varInspector": {
   "cols": {
    "lenName": 16,
    "lenType": 16,
    "lenVar": 40
   },
   "kernels_config": {
    "python": {
     "delete_cmd_postfix": "",
     "delete_cmd_prefix": "del ",
     "library": "var_list.py",
     "varRefreshCmd": "print(var_dic_list())"
    },
    "r": {
     "delete_cmd_postfix": ") ",
     "delete_cmd_prefix": "rm(",
     "library": "var_list.r",
     "varRefreshCmd": "cat(var_dic_list()) "
    }
   },
   "types_to_exclude": [
    "module",
    "function",
    "builtin_function_or_method",
    "instance",
    "_Feature"
   ],
   "window_display": false
  }
 },
 "nbformat": 4,
 "nbformat_minor": 4
}
